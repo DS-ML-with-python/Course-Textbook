{
  "cells": [
    {
      "cell_type": "raw",
      "metadata": {},
      "source": [
        "---\n",
        "title: \"Data Visualization in Python\"\n",
        "format:\n",
        "  html:\n",
        "    self-contained: true\n",
        "    code-fold: show\n",
        "    code-copy: true\n",
        "    code-annotations: below\n",
        "execute: \n",
        "  echo: fenced\n",
        "reference-location: margin\n",
        "citation-location: margin\n",
        "---"
      ],
      "id": "f6ffc70f"
    },
    {
      "cell_type": "markdown",
      "metadata": {},
      "source": [
        "## Introduction\n",
        "\n",
        "This document demonstrates the use of the `plotnine` library in Python to visualize data via the *grammar of graphics* framework.\n",
        "\n",
        "The functions in `plotnine` originate from the `ggplot2` R package, which is the R implementation of the grammar of graphics.\n",
        "\n",
        "## Grammar of Graphics\n",
        "\n",
        "The *grammar of graphics* is a framework for creating data visualizations.\n",
        "\n",
        "A visualization consists of:\n",
        "\n",
        "-   The **aesthetic**: Which *variables* are dictating which *plot elements*.\n",
        "\n",
        "-   The **geometry**: What *shape* of plot your are making.\n",
        "\n",
        "For example, the plot below displays some of the data from the [Palmer Penguins data set](https://www.kaggle.com/datasets/parulpandey/palmer-archipelago-antarctica-penguin-data).\n"
      ],
      "id": "e9df0dd6"
    },
    {
      "cell_type": "code",
      "metadata": {},
      "source": [
        "#| echo: false\n",
        "\n",
        "import pandas as pd\n",
        "from palmerpenguins import load_penguins\n",
        "from plotnine import ggplot, geom_point, aes, geom_boxplot"
      ],
      "id": "f311e519",
      "execution_count": null,
      "outputs": []
    },
    {
      "cell_type": "code",
      "metadata": {},
      "source": [
        "#| echo: false\n",
        "\n",
        "penguins = load_penguins()\n",
        "\n",
        "(ggplot(penguins, aes(x = \"species\", y = \"bill_length_mm\", fill = \"species\"))\n",
        "+ geom_boxplot()\n",
        ")"
      ],
      "id": "82babb18",
      "execution_count": null,
      "outputs": []
    },
    {
      "cell_type": "markdown",
      "metadata": {},
      "source": [
        "The **aesthetic** is **species** on the x-axis, **bill_length_mm** on the y-axis, colored by **species**.\n",
        "\n",
        "The **geometry** is a **boxplot**.\n",
        "\n",
        "## plotnine (i.e. ggplot)\n",
        "\n",
        "The library `plotnine` implements the *grammar of graphics* in Python.\n",
        "\n",
        "Code for the previous example:\n"
      ],
      "id": "4c80c14c"
    },
    {
      "cell_type": "code",
      "metadata": {},
      "source": [
        "#| eval: false\n",
        "#| code-fold: show\n",
        "(ggplot(penguins, aes(x = \"species\", y = \"bill_length_mm\", fill = \"species\"))\n",
        "+ geom_boxplot()\n",
        ")"
      ],
      "id": "a571e124",
      "execution_count": null,
      "outputs": []
    },
    {
      "cell_type": "markdown",
      "metadata": {},
      "source": [
        "### The aesthetic:\n"
      ],
      "id": "df0c66de"
    },
    {
      "cell_type": "code",
      "metadata": {},
      "source": [
        "(ggplot(penguins, \n",
        "aes(                           # <1>\n",
        "  x = \"species\",               # <2>\n",
        "  y = \"bill_length_mm\",        # <2>\n",
        "  fill = \"species\"))           # <2>\n",
        "+ geom_boxplot()\n",
        ")"
      ],
      "id": "3b87c2bf",
      "execution_count": null,
      "outputs": []
    },
    {
      "cell_type": "markdown",
      "metadata": {},
      "source": [
        "1.  The `aes()` function is the place to specify aesthetics.\n",
        "2.  `x`, `y`, and `fill` are three possible aesthetics that can be specified, that map variables in our data set to plot elements.\n",
        "\n",
        "### The geometry\n"
      ],
      "id": "54de5cf5"
    },
    {
      "cell_type": "code",
      "metadata": {},
      "source": [
        "(ggplot(penguins, \n",
        "aes(\n",
        "  x = \"species\",\n",
        "  y = \"bill_length_mm\",\n",
        "  fill = \"species\"))\n",
        "+ geom_boxplot() # <1>\n",
        ")"
      ],
      "id": "2b9b1a3d",
      "execution_count": null,
      "outputs": []
    },
    {
      "cell_type": "markdown",
      "metadata": {},
      "source": [
        "1.  A variety of `geom_*` functions allow for different plotting shapes (e.g. boxplot, histogram, etc.)\n",
        "\n",
        "### Other optional elements:\n",
        "\n",
        "-   The *scales* of the x- and y-axes.\n",
        "\n",
        "-   The *color* of elements that are not mapped to aesthetics.\n",
        "\n",
        "-   The *theme* of the plot\n",
        "\n",
        "...and many more!\n",
        "\n",
        "### Scales\n"
      ],
      "id": "0112e58b"
    },
    {
      "cell_type": "code",
      "metadata": {},
      "source": [
        "(ggplot(penguins, aes(x = \"species\", y = \"bill_length_mm\", fill = \"species\"))\n",
        "+ geom_boxplot()\n",
        ")"
      ],
      "id": "77cfbeef",
      "execution_count": null,
      "outputs": []
    },
    {
      "cell_type": "markdown",
      "metadata": {},
      "source": [
        "versus\n"
      ],
      "id": "8b131783"
    },
    {
      "cell_type": "code",
      "metadata": {},
      "source": [
        "from plotnine import scale_y_reverse\n",
        "(ggplot(penguins, aes(x = \"species\", y = \"bill_length_mm\", fill = \"species\"))\n",
        "+ geom_boxplot()\n",
        "+ scale_y_reverse()\n",
        ")"
      ],
      "id": "e885deac",
      "execution_count": null,
      "outputs": []
    },
    {
      "cell_type": "markdown",
      "metadata": {},
      "source": [
        "### Non-aesthetic colors\n"
      ],
      "id": "203f3e6d"
    },
    {
      "cell_type": "code",
      "metadata": {},
      "source": [
        "(ggplot(penguins, aes(x = \"species\", y = \"bill_length_mm\", fill = \"species\"))\n",
        "+ geom_boxplot()\n",
        ")"
      ],
      "id": "31bd7d5f",
      "execution_count": null,
      "outputs": []
    },
    {
      "cell_type": "markdown",
      "metadata": {},
      "source": [
        "versus\n"
      ],
      "id": "e6731674"
    },
    {
      "cell_type": "code",
      "metadata": {},
      "source": [
        "(ggplot(penguins, aes(x = \"species\", y = \"bill_length_mm\", fill = \"species\"))\n",
        "+ geom_boxplot(fill = \"cornflowerblue\")\n",
        ")"
      ],
      "id": "09d48dd3",
      "execution_count": null,
      "outputs": []
    },
    {
      "cell_type": "markdown",
      "metadata": {},
      "source": [
        "### Quick quiz\n",
        "\n",
        "What will this show?\n"
      ],
      "id": "39af830f"
    },
    {
      "cell_type": "code",
      "metadata": {},
      "source": [
        "#| eval: false\n",
        "\n",
        "(ggplot(penguins, \n",
        "aes(\n",
        "  x = \"species\",\n",
        "  y = \"bill_length_mm\",\n",
        "  fill = \"cornflowerblue\"))\n",
        "+ geom_boxplot()\n",
        ")"
      ],
      "id": "c3b0d76a",
      "execution_count": null,
      "outputs": []
    },
    {
      "cell_type": "markdown",
      "metadata": {},
      "source": [
        "### Themes\n"
      ],
      "id": "9e0da333"
    },
    {
      "cell_type": "code",
      "metadata": {},
      "source": [
        "(ggplot(penguins, aes(x = \"species\", y = \"bill_length_mm\", fill = \"species\"))\n",
        "+ geom_boxplot()\n",
        ")"
      ],
      "id": "ed4bf099",
      "execution_count": null,
      "outputs": []
    },
    {
      "cell_type": "markdown",
      "metadata": {},
      "source": [
        "versus\n"
      ],
      "id": "13a7070f"
    },
    {
      "cell_type": "code",
      "metadata": {},
      "source": [
        "from plotnine import theme_classic\n",
        "(ggplot(penguins, aes(x = \"species\", y = \"bill_length_mm\", fill = \"species\"))\n",
        "+ geom_boxplot()\n",
        "+ theme_classic()\n",
        ")"
      ],
      "id": "48d84837",
      "execution_count": null,
      "outputs": []
    },
    {
      "cell_type": "markdown",
      "metadata": {},
      "source": [
        "### Quick quiz\n",
        "\n",
        "What are the *aesthetics*, *geometry*, *scales*, and other options?\n",
        "\n",
        "<!-- xkcd image -->\n",
        "\n",
        "### Resources\n",
        "\n",
        "-   Scales: <https://ggplot2-book.org/scale-position.html>\n",
        "\n",
        "-   Themes: <https://ggplot2-book.org/polishing.html>\n",
        "\n",
        "# Geometries: The \"Big Five\"\n",
        "\n",
        "### 1. Bar Plots\n",
        "\n",
        "Most often used for showing **counts** of a **categorical variable**:\n"
      ],
      "id": "df613786"
    },
    {
      "cell_type": "code",
      "metadata": {},
      "source": [
        "from plotnine import geom_bar\n",
        "(ggplot(penguins,\n",
        "aes(\n",
        "  x = \"species\"\n",
        "))\n",
        "+ geom_bar()\n",
        ")"
      ],
      "id": "eef28cf8",
      "execution_count": null,
      "outputs": []
    },
    {
      "cell_type": "markdown",
      "metadata": {},
      "source": [
        "... or **relationships** between **two categorical variables**:\n"
      ],
      "id": "51aa1da1"
    },
    {
      "cell_type": "code",
      "metadata": {},
      "source": [
        "(ggplot(penguins,\n",
        "aes(\n",
        "  x = \"species\",\n",
        "  fill = \"sex\"\n",
        "))\n",
        "+ geom_bar()\n",
        ")"
      ],
      "id": "0edef47d",
      "execution_count": null,
      "outputs": []
    },
    {
      "cell_type": "markdown",
      "metadata": {},
      "source": [
        "Would we rather see percents?\n"
      ],
      "id": "b23e172b"
    },
    {
      "cell_type": "code",
      "metadata": {},
      "source": [
        "(ggplot(penguins,\n",
        "aes(\n",
        "  x = \"species\",\n",
        "  fill = \"island\"\n",
        "))\n",
        "+ geom_bar(position = \"fill\")\n",
        ")"
      ],
      "id": "43d6265c",
      "execution_count": null,
      "outputs": []
    },
    {
      "cell_type": "markdown",
      "metadata": {},
      "source": [
        "Or side-by-side?\n"
      ],
      "id": "1021b5ad"
    },
    {
      "cell_type": "code",
      "metadata": {},
      "source": [
        "(ggplot(penguins,\n",
        "aes(\n",
        "  x = \"species\",\n",
        "  fill = \"island\"\n",
        "))\n",
        "+ geom_bar(position = \"dodge\")\n",
        ")"
      ],
      "id": "dce62cd3",
      "execution_count": null,
      "outputs": []
    },
    {
      "cell_type": "markdown",
      "metadata": {},
      "source": [
        "### 2. Boxplots\n"
      ],
      "id": "03d4cb36"
    },
    {
      "cell_type": "code",
      "metadata": {},
      "source": [
        "(ggplot(penguins,\n",
        "aes(\n",
        "  x = \"species\",\n",
        "  y = \"bill_length_mm\"\n",
        "))\n",
        "+ geom_boxplot()\n",
        ")"
      ],
      "id": "9d7c6d59",
      "execution_count": null,
      "outputs": []
    },
    {
      "cell_type": "markdown",
      "metadata": {},
      "source": [
        "Side-by-side using a categorical variable:\n"
      ],
      "id": "409de50f"
    },
    {
      "cell_type": "code",
      "metadata": {},
      "source": [
        "(ggplot(penguins,\n",
        "aes(\n",
        "  x = \"species\",\n",
        "  y = \"bill_length_mm\",\n",
        "  fill = \"sex\"\n",
        "))\n",
        "+ geom_boxplot()\n",
        ")"
      ],
      "id": "9b0ca0e7",
      "execution_count": null,
      "outputs": []
    },
    {
      "cell_type": "markdown",
      "metadata": {},
      "source": [
        "### 3. Histograms\n"
      ],
      "id": "1b6b6836"
    },
    {
      "cell_type": "code",
      "metadata": {},
      "source": [
        "from plotnine import geom_histogram\n",
        "(ggplot(penguins,\n",
        "aes(\n",
        "  x = \"bill_length_mm\"\n",
        "))\n",
        "+ geom_histogram()\n",
        ")"
      ],
      "id": "5a8e4fe7",
      "execution_count": null,
      "outputs": []
    },
    {
      "cell_type": "code",
      "metadata": {},
      "source": [
        "(ggplot(penguins,\n",
        "aes(\n",
        "  x = \"bill_length_mm\"\n",
        "))\n",
        "+ geom_histogram(bins = 100)\n",
        ")"
      ],
      "id": "2d9cb11d",
      "execution_count": null,
      "outputs": []
    },
    {
      "cell_type": "code",
      "metadata": {},
      "source": [
        "(ggplot(penguins,\n",
        "aes(\n",
        "  x = \"bill_length_mm\"\n",
        "))\n",
        "+ geom_histogram(bins = 10)\n",
        ")"
      ],
      "id": "56ac2427",
      "execution_count": null,
      "outputs": []
    },
    {
      "cell_type": "markdown",
      "metadata": {},
      "source": [
        "### 3.5 Densities\n",
        "\n",
        "Suppose you want to compare histograms by **category**:\n"
      ],
      "id": "7aee91be"
    },
    {
      "cell_type": "code",
      "metadata": {},
      "source": [
        "(ggplot(penguins,\n",
        "aes(\n",
        "  x = \"bill_length_mm\",\n",
        "  fill = \"species\"\n",
        "))\n",
        "+ geom_histogram()\n",
        ")"
      ],
      "id": "6b66f699",
      "execution_count": null,
      "outputs": []
    },
    {
      "cell_type": "markdown",
      "metadata": {},
      "source": [
        "Cleaner: smoothed histogram, or density:\n"
      ],
      "id": "24a867da"
    },
    {
      "cell_type": "code",
      "metadata": {},
      "source": [
        "from plotnine import geom_density\n",
        "(ggplot(penguins,\n",
        "aes(\n",
        "  x = \"bill_length_mm\",\n",
        "  fill = \"species\"\n",
        "))\n",
        "+ geom_density()\n",
        ")"
      ],
      "id": "466b3fa7",
      "execution_count": null,
      "outputs": []
    },
    {
      "cell_type": "markdown",
      "metadata": {},
      "source": [
        "Even cleaner: The **alpha** option:\n"
      ],
      "id": "808da14c"
    },
    {
      "cell_type": "code",
      "metadata": {},
      "source": [
        "(ggplot(penguins,\n",
        "aes(\n",
        "  x = \"bill_length_mm\",\n",
        "  fill = \"species\"\n",
        "))\n",
        "+ geom_density(alpha = 0.5)\n",
        ")"
      ],
      "id": "db4ec2be",
      "execution_count": null,
      "outputs": []
    },
    {
      "cell_type": "markdown",
      "metadata": {},
      "source": [
        "### 4. Scatterplots\n"
      ],
      "id": "3a267848"
    },
    {
      "cell_type": "code",
      "metadata": {},
      "source": [
        "(ggplot(penguins,\n",
        "aes(\n",
        "  x = \"bill_length_mm\",\n",
        "  y = \"bill_depth_mm\"\n",
        "))\n",
        "+ geom_point()\n",
        ")"
      ],
      "id": "61a693ea",
      "execution_count": null,
      "outputs": []
    },
    {
      "cell_type": "markdown",
      "metadata": {},
      "source": [
        "Colors for extra information:\n"
      ],
      "id": "dc958315"
    },
    {
      "cell_type": "code",
      "metadata": {},
      "source": [
        "(ggplot(penguins,\n",
        "aes(\n",
        "  x = \"bill_length_mm\",\n",
        "  y = \"bill_depth_mm\",\n",
        "  color = \"species\"\n",
        "))\n",
        "+ geom_point()\n",
        ")"
      ],
      "id": "064ad517",
      "execution_count": null,
      "outputs": []
    },
    {
      "cell_type": "markdown",
      "metadata": {},
      "source": [
        "### 5. Line Plots\n"
      ],
      "id": "4b2b1543"
    },
    {
      "cell_type": "code",
      "metadata": {},
      "source": [
        "from plotnine import geom_line\n",
        "penguins2 = penguins.groupby(by = [\"species\", \"sex\"]).mean()\n",
        "\n",
        "(ggplot(penguins2,\n",
        "aes(\n",
        "  x = \"species\",\n",
        "  y = \"bill_length_mm\",\n",
        "  color = \"sex\"\n",
        "))\n",
        "+ geom_point()\n",
        "+ geom_line()\n",
        ")"
      ],
      "id": "95058166",
      "execution_count": null,
      "outputs": []
    },
    {
      "cell_type": "markdown",
      "metadata": {},
      "source": [
        "### Resources\n",
        "\n",
        "* `ggplot2` cheatsheet: [https://www.rstudio.com/wp-content/uploads/2015/03/ggplot2-cheatsheet.pdf](https://www.rstudio.com/wp-content/uploads/2015/03/ggplot2-cheatsheet.pdf)\n",
        "\n",
        "* `plotnine`: [https://plotnine.readthedocs.io/en/stable/](https://plotnine.readthedocs.io/en/stable/)\n",
        "\n",
        "## Multiple Plots\n",
        "\n",
        "### Facet Wrapping\n"
      ],
      "id": "212e845d"
    },
    {
      "cell_type": "code",
      "metadata": {},
      "source": [
        "from plotnine import facet_wrap\n",
        "(ggplot(penguins,\n",
        "aes(\n",
        "  x = \"species\",\n",
        "  y = \"bill_length_mm\"\n",
        "))\n",
        "+ geom_boxplot()\n",
        "+ facet_wrap(\"sex\")\n",
        ")"
      ],
      "id": "ad37e0f0",
      "execution_count": null,
      "outputs": []
    }
  ],
  "metadata": {
    "kernelspec": {
      "name": "python3",
      "language": "python",
      "display_name": "Python 3 (ipykernel)"
    }
  },
  "nbformat": 4,
  "nbformat_minor": 5
}